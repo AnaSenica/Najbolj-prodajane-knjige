{
 "cells": [
  {
   "cell_type": "markdown",
   "metadata": {},
   "source": [
    "# Vojni filmi, posneti po knjigah\n"
   ]
  },
  {
   "cell_type": "markdown",
   "metadata": {},
   "source": [
    "Medtem ko je moj brat velik navdušenec nad zgodovinskimi filmi, jaz raje berem knjige. Pred kratkim sva se pogovarjala o tem, kateri od obeh medijev je pri podajanju zgodovinske tematike boljši in tako sem se odločila, da v svoji projektni nalogi združim najini zanimanji in analiziram zgodovinske vojne filme, posnete po knjižnih predlogah.\n",
    "\n",
    "Za analizo sem uporabila podatke iz seznama zgodovinskih filmov o vojnah med letoma 1945 in 2000, posnetih po knjigah. Seznam  sem našla na [Wikipediji](https://en.wikipedia.org/wiki/List_of_book-based_war_films_(1945%E2%80%932000_wars)). \n",
    "\n",
    "\n",
    "#### Hipoteze\n",
    "\n",
    "Pred analizo sem si postavila več vprašanj, na katere bom s pomočjo nadaljnje obdelave podatkov poskušala odgovoriti:\n",
    "* Katera vrsta besedila je njabolj primerna za predelavo v film?\n",
    "* Katera država je posnela največ vojnih filmov?\n",
    "* V katerem obdobju so posneli največ vojnih filmov po knjižni predlogi?\n",
    "* Koliko let mine od izida knjige do izida filmske predelave?\n",
    "\n"
   ]
  },
  {
   "cell_type": "code",
   "execution_count": 2,
   "metadata": {},
   "outputs": [],
   "source": [
    "import pandas as pd\n",
    "import numpy as np\n",
    "import matplotlib.pyplot as plt\n",
    "\n",
    "pd.options.display.max_rows = 15\n",
    "\n",
    "\n",
    "filmi1 = pd.read_csv(\"filmi_po_knjigah.csv\", index_col='id')\n",
    "drzave1 = pd.read_csv(\"drzave.csv\", index_col='film_id')\n",
    "avtorji1 = pd.read_csv(\"avtorji_knjig.csv\", index_col='film_id')\n",
    "reziserji1 = pd.read_csv(\"reziserji.csv\", index_col='film_id')\n",
    "zvrsti1 = pd.read_csv(\"zvrsti_knjige.csv\", index_col='film_id')"
   ]
  },
  {
   "cell_type": "markdown",
   "metadata": {},
   "source": [
    "## Uvodna opomba\n",
    "\n",
    "Med analiziranjem podatkov sem ugotovila, da nekateri podatki niso bili ustrezni za mojo nalogo. Nekatere knjige, po katerih so bili filmi posneti, so namreč izšle pred letom 1945. Te knjige najverjetneje ne opisujejo dejanskih vojn med letoma 1945 in 2000, razen če gre seveda za domišljijsko opisovanje možnih dogodkov v prihodnosti. Vseeno sem se za nadaljno analizo odločila, da filme, posnete po teh knjigah, izločim."
   ]
  },
  {
   "cell_type": "code",
   "execution_count": 4,
   "metadata": {},
   "outputs": [
    {
     "data": {
      "text/html": [
       "<div>\n",
       "<style scoped>\n",
       "    .dataframe tbody tr th:only-of-type {\n",
       "        vertical-align: middle;\n",
       "    }\n",
       "\n",
       "    .dataframe tbody tr th {\n",
       "        vertical-align: top;\n",
       "    }\n",
       "\n",
       "    .dataframe thead th {\n",
       "        text-align: right;\n",
       "    }\n",
       "</style>\n",
       "<table border=\"1\" class=\"dataframe\">\n",
       "  <thead>\n",
       "    <tr style=\"text-align: right;\">\n",
       "      <th></th>\n",
       "      <th>film</th>\n",
       "      <th>leto_filma</th>\n",
       "      <th>knjiga</th>\n",
       "      <th>leto_izida_knjige</th>\n",
       "    </tr>\n",
       "    <tr>\n",
       "      <th>id</th>\n",
       "      <th></th>\n",
       "      <th></th>\n",
       "      <th></th>\n",
       "      <th></th>\n",
       "    </tr>\n",
       "  </thead>\n",
       "  <tbody>\n",
       "    <tr>\n",
       "      <td>29</td>\n",
       "      <td>I Was a Communist for the FBI</td>\n",
       "      <td>1951</td>\n",
       "      <td>Saturday Evening Post</td>\n",
       "      <td>1940</td>\n",
       "    </tr>\n",
       "    <tr>\n",
       "      <td>51</td>\n",
       "      <td>The 39 Steps</td>\n",
       "      <td>1959</td>\n",
       "      <td>The Thirty-Nine Steps</td>\n",
       "      <td>1915</td>\n",
       "    </tr>\n",
       "    <tr>\n",
       "      <td>58</td>\n",
       "      <td>Scarface</td>\n",
       "      <td>1983</td>\n",
       "      <td>Scarface</td>\n",
       "      <td>1930</td>\n",
       "    </tr>\n",
       "    <tr>\n",
       "      <td>109</td>\n",
       "      <td>Fixed Bayonets!</td>\n",
       "      <td>1951</td>\n",
       "      <td>Immortal Sergeant</td>\n",
       "      <td>1940</td>\n",
       "    </tr>\n",
       "    <tr>\n",
       "      <td>129</td>\n",
       "      <td>The Gun Runners</td>\n",
       "      <td>1958</td>\n",
       "      <td>To Have and Have Not</td>\n",
       "      <td>1937</td>\n",
       "    </tr>\n",
       "    <tr>\n",
       "      <td>132</td>\n",
       "      <td>Che Guevara</td>\n",
       "      <td>2008</td>\n",
       "      <td>Don Quixote</td>\n",
       "      <td>1615</td>\n",
       "    </tr>\n",
       "    <tr>\n",
       "      <td>138</td>\n",
       "      <td>Wild Reeds</td>\n",
       "      <td>1994</td>\n",
       "      <td>The Oak and the Reed</td>\n",
       "      <td>1668</td>\n",
       "    </tr>\n",
       "    <tr>\n",
       "      <td>146</td>\n",
       "      <td>The Deer Hunter</td>\n",
       "      <td>1978</td>\n",
       "      <td>Three Comrades</td>\n",
       "      <td>1937</td>\n",
       "    </tr>\n",
       "    <tr>\n",
       "      <td>148</td>\n",
       "      <td>Apocalypse Now</td>\n",
       "      <td>1979</td>\n",
       "      <td>Inspired by</td>\n",
       "      <td>1902</td>\n",
       "    </tr>\n",
       "    <tr>\n",
       "      <td>229</td>\n",
       "      <td>Courage Under Fire</td>\n",
       "      <td>1996</td>\n",
       "      <td>In a Grove</td>\n",
       "      <td>1922</td>\n",
       "    </tr>\n",
       "    <tr>\n",
       "      <td>237</td>\n",
       "      <td>Dezerter</td>\n",
       "      <td>2000</td>\n",
       "      <td>The Eternal Husband</td>\n",
       "      <td>1800</td>\n",
       "    </tr>\n",
       "    <tr>\n",
       "      <td>247</td>\n",
       "      <td>Prisoner of the Mountains</td>\n",
       "      <td>1996</td>\n",
       "      <td>The Prisoner of the Caucasus</td>\n",
       "      <td>1800</td>\n",
       "    </tr>\n",
       "    <tr>\n",
       "      <td>250</td>\n",
       "      <td>Daratt</td>\n",
       "      <td>2006</td>\n",
       "      <td>La clemenza di Tito</td>\n",
       "      <td>1791</td>\n",
       "    </tr>\n",
       "    <tr>\n",
       "      <td>256</td>\n",
       "      <td>The Desert of the Tartars</td>\n",
       "      <td>1976</td>\n",
       "      <td>The Tartar Steppe</td>\n",
       "      <td>1940</td>\n",
       "    </tr>\n",
       "  </tbody>\n",
       "</table>\n",
       "</div>"
      ],
      "text/plain": [
       "                              film  leto_filma                        knjiga  \\\n",
       "id                                                                             \n",
       "29   I Was a Communist for the FBI        1951         Saturday Evening Post   \n",
       "51                    The 39 Steps        1959         The Thirty-Nine Steps   \n",
       "58                        Scarface        1983                      Scarface   \n",
       "109                Fixed Bayonets!        1951             Immortal Sergeant   \n",
       "129                The Gun Runners        1958          To Have and Have Not   \n",
       "132                    Che Guevara        2008                   Don Quixote   \n",
       "138                     Wild Reeds        1994          The Oak and the Reed   \n",
       "146                The Deer Hunter        1978                Three Comrades   \n",
       "148                 Apocalypse Now        1979                   Inspired by   \n",
       "229             Courage Under Fire        1996                    In a Grove   \n",
       "237                       Dezerter        2000           The Eternal Husband   \n",
       "247      Prisoner of the Mountains        1996  The Prisoner of the Caucasus   \n",
       "250                         Daratt        2006           La clemenza di Tito   \n",
       "256      The Desert of the Tartars        1976             The Tartar Steppe   \n",
       "\n",
       "     leto_izida_knjige  \n",
       "id                      \n",
       "29                1940  \n",
       "51                1915  \n",
       "58                1930  \n",
       "109               1940  \n",
       "129               1937  \n",
       "132               1615  \n",
       "138               1668  \n",
       "146               1937  \n",
       "148               1902  \n",
       "229               1922  \n",
       "237               1800  \n",
       "247               1800  \n",
       "250               1791  \n",
       "256               1940  "
      ]
     },
     "execution_count": 4,
     "metadata": {},
     "output_type": "execute_result"
    }
   ],
   "source": [
    "pd.options.display.float_format = '{:.0f}'.format\n",
    "napacni_filmi = filmi1[filmi1.leto_izida_knjige < 1945]\n",
    "napacni_filmi"
   ]
  },
  {
   "cell_type": "code",
   "execution_count": 5,
   "metadata": {},
   "outputs": [],
   "source": [
    "seznam_napacnih_filmov = list(napacni_filmi.index.values)\n",
    "filmi = filmi1.drop(seznam_napacnih_filmov)\n",
    "drzave = drzave1.drop(seznam_napacnih_filmov)\n",
    "avtorji = avtorji1.drop(seznam_napacnih_filmov)\n",
    "reziserji = reziserji1.drop(seznam_napacnih_filmov)\n",
    "zvrsti = zvrsti1.drop(seznam_napacnih_filmov)"
   ]
  },
  {
   "cell_type": "markdown",
   "metadata": {},
   "source": [
    "## Vrste besedila\n",
    "\n",
    "Najprej me je zanimalo, katere vrste besedil so bile predelane v filme. Ali je kakšna vrsta še posebej primerna?\n",
    "V spodnjem grafu lahko vidimo, katere vrste besedil se sploh pojavljajo, katere so najpogosteje in katere najredkeje uporabljene."
   ]
  },
  {
   "cell_type": "code",
   "execution_count": 173,
   "metadata": {},
   "outputs": [
    {
     "data": {
      "image/png": "[encoded data removed]",
      "text/plain": [
       "<Figure size 432x288 with 1 Axes>"
      ]
     },
     "metadata": {
      "needs_background": "light"
     },
     "output_type": "display_data"
    }
   ],
   "source": [
    "po_vrstah = zvrsti.groupby('zvrst')\n",
    "graf = po_vrstah.size().plot.bar()\n",
    "graf.set_ylabel(\"Število knjig posamezne vrste\")\n",
    "graf.set_xlabel(\"Vrsta\")\n",
    "plt.tight_layout()"
   ]
  },
  {
   "cell_type": "markdown",
   "metadata": {},
   "source": [
    "### Ugotovitve:\n",
    "\n",
    "\n",
    "1. Od skupno 258 filmov jih je bilo največ, 150, posnetih po <strong>romanih</strong> ('novel'). \n",
    "\n",
    "Romani so že sami po sebi zelo razširjena vrsta, ki jo avtorji uporabljajo za zapisovanje različnih tem, vse od domišljijskih pustolovščin pa do ljubezenskih zgodb. Roman je dovolj obsežen, da lahko zajame celotno dogajanje neke vojne zgodbe, ki ga velikokrat spremlja veliko podatkov in dejstev. Prav zato pa je zelo primeren tudi za predelavo v filmsko obliko, ker poda obširno zgodbo skupaj z opisi junakov, krajev in dogodkov, kar režiserjem in scenaristom močno olajša  delo."
   ]
  },
  {
   "cell_type": "code",
   "execution_count": 174,
   "metadata": {},
   "outputs": [
    {
     "data": {
      "text/plain": [
       "150"
      ]
     },
     "execution_count": 174,
     "metadata": {},
     "output_type": "execute_result"
    }
   ],
   "source": [
    "po_vrstah.size().max()"
   ]
  },
  {
   "cell_type": "markdown",
   "metadata": {},
   "source": [
    "2. Precej vrst je redko uporabljenih kot osnova za film. Med njimi so strip, dnevnik, kratke zgodbe in novele.\n",
    "\n",
    "Vzrok je lahko v tem, da v obdobju med letoma 1945 in 2000 nekaterih vrst besedila sploh niso zapisovali, spet druge vrste so bile neprimerne za predelavo zaradi prekratke vsebine."
   ]
  },
  {
   "cell_type": "code",
   "execution_count": 175,
   "metadata": {},
   "outputs": [
    {
     "data": {
      "text/plain": [
       "1"
      ]
     },
     "execution_count": 175,
     "metadata": {},
     "output_type": "execute_result"
    }
   ],
   "source": [
    "po_vrstah.size().min()"
   ]
  },
  {
   "cell_type": "markdown",
   "metadata": {},
   "source": [
    "3. <b>Delež posameznih vrst knjig</b> za vsako državo posebej\n",
    "\n",
    "Avtobiografije so predvsem osebne izpovedi avtorjev, zato bralce še posebej privlačijo. Tudi filmarji verjetno želijo izkoristiti uspeh znanih avtobiografij, zato je veliko filmov posnetih tudi po teh. Največ takih filmov je bilo posnetih v ZDA, blizu pa jim je tudi Združeno kraljestvo. \n",
    "\n",
    "Boljši pokazatelj popularnosti avtobiografij v posameznih državah pa je kar <em>delež</em> filmov, posnetih po teh. Podatki pokažejo, da je kar 50 % filmov posnetih po avtobiografijah v Argentini in Španiji, medtem ko imata ZDA in Združeno kraljestvo v resnici zelo majhen delež le-teh."
   ]
  },
  {
   "cell_type": "code",
   "execution_count": 208,
   "metadata": {
    "scrolled": true
   },
   "outputs": [
    {
     "data": {
      "text/plain": [
       "drzave\n",
       "Argentina        3\n",
       "Canada           3\n",
       "France           2\n",
       "Germany          1\n",
       "Ireland          1\n",
       "Spain            1\n",
       "UK               9\n",
       "US              18\n",
       "West Germany     1\n",
       "dtype: int64"
      ]
     },
     "execution_count": 208,
     "metadata": {},
     "output_type": "execute_result"
    }
   ],
   "source": [
    "avtobiografije = zvrsti[zvrsti.zvrst == 'Memoir']\n",
    "seznam_avtobiografij = list(avtobiografije.index.values)\n",
    "drzave_z_avtobio = drzave.loc[seznam_avtobiografij].groupby('drzave').size()\n",
    "drzave_z_avtobio"
   ]
  },
  {
   "cell_type": "code",
   "execution_count": 228,
   "metadata": {},
   "outputs": [
    {
     "data": {
      "text/plain": [
       "drzave\n",
       "Argentina       50.00\n",
       "Canada          16.67\n",
       "France          11.11\n",
       "Germany         20.00\n",
       "Ireland         25.00\n",
       "Spain           50.00\n",
       "UK              14.06\n",
       "US              13.53\n",
       "West Germany    33.33\n",
       "dtype: float64"
      ]
     },
     "execution_count": 228,
     "metadata": {},
     "output_type": "execute_result"
    }
   ],
   "source": [
    "delez_avtobiografij = (drzave_z_avtobio / drzave.groupby('drzave').size().loc[list(drzave_z_avtobio.index.values)] * 100).round(2)\n",
    "delez_avtobiografij"
   ]
  },
  {
   "cell_type": "markdown",
   "metadata": {},
   "source": [
    "Ugotovitve v povezavi z deležem filmov, posnetih po avtobiografijah, so se mi zdele še posebej zanimive, zato sem želela na enem mestu zbrati podatke za vse vrste knjig. V spodnji tabeli so v procentih zapisani deleži posameznih vrst knjig, po katerih so posamezne države posnele filme."
   ]
  },
  {
   "cell_type": "code",
   "execution_count": 363,
   "metadata": {},
   "outputs": [],
   "source": [
    "# Tabela, v kateri so združene države in vrste knjig, po katerih so bili posneti filmi:\n",
    "tabela = pd.merge(drzave, zvrsti, left_on = 'film_id', right_on = 'film_id')\n",
    "# Tabela s številom filmov, ki jih je posnela posamezna država: \n",
    "skupno_stevilo_filmov = drzave.groupby('drzave').size()\n",
    "\n",
    "# Slovar, ki vsaki državi priredi podslovar, v katerem so ključi vrste knjig, vrednosti pa deleži knjig posamezne vrste:\n",
    "\n",
    "slovar_drzav = {}\n",
    "\n",
    "for drzava2 in list(drzave.groupby('drzave').size().index.values):\n",
    "    # koliko filmov je bilo posnetih v 'drzava2':\n",
    "    filmi_v_drzavi2 = skupno_stevilo_filmov.loc[drzava2]\n",
    "    # Tabela, v kateri so naštete vrste knjig in njihovo število za 'drzava2':\n",
    "    j = (tabela[tabela.drzave == drzava2]).groupby('zvrst').size()\n",
    "    slovar_delezev_vrst = {}\n",
    "    \n",
    "    # Podslovar z vrstami in deležem knjig posamezne vrste:\n",
    "    for vrsta2 in list(j.index.values):\n",
    "        slovar_delezev_vrst[vrsta2] = j.loc[vrsta2] / filmi_v_drzavi2\n",
    "        \n",
    "    slovar_drzav[drzava2] = slovar_delezev_vrst\n"
   ]
  },
  {
   "cell_type": "code",
   "execution_count": 393,
   "metadata": {},
   "outputs": [
    {
     "data": {
      "text/html": [
       "<div>\n",
       "<style scoped>\n",
       "    .dataframe tbody tr th:only-of-type {\n",
       "        vertical-align: middle;\n",
       "    }\n",
       "\n",
       "    .dataframe tbody tr th {\n",
       "        vertical-align: top;\n",
       "    }\n",
       "\n",
       "    .dataframe thead th {\n",
       "        text-align: right;\n",
       "    }\n",
       "</style>\n",
       "<table border=\"1\" class=\"dataframe\">\n",
       "  <thead>\n",
       "    <tr style=\"text-align: right;\">\n",
       "      <th></th>\n",
       "      <th>Argentina</th>\n",
       "      <th>Australia</th>\n",
       "      <th>Bangladesh</th>\n",
       "      <th>Belgium</th>\n",
       "      <th>Bosnia</th>\n",
       "      <th>Canada</th>\n",
       "      <th>China</th>\n",
       "      <th>Croatia</th>\n",
       "      <th>Cuba</th>\n",
       "      <th>Denmark</th>\n",
       "      <th>...</th>\n",
       "      <th>South Korea</th>\n",
       "      <th>Spain</th>\n",
       "      <th>Sweden</th>\n",
       "      <th>Switzerland</th>\n",
       "      <th>UK</th>\n",
       "      <th>UK and US</th>\n",
       "      <th>US</th>\n",
       "      <th>USSR</th>\n",
       "      <th>West Germany</th>\n",
       "      <th>Skupaj</th>\n",
       "    </tr>\n",
       "  </thead>\n",
       "  <tbody>\n",
       "    <tr>\n",
       "      <td>Memoir</td>\n",
       "      <td>50.00</td>\n",
       "      <td>0.00</td>\n",
       "      <td>0.00</td>\n",
       "      <td>0.00</td>\n",
       "      <td>0.00</td>\n",
       "      <td>16.67</td>\n",
       "      <td>0.00</td>\n",
       "      <td>0.00</td>\n",
       "      <td>0.00</td>\n",
       "      <td>0.00</td>\n",
       "      <td>...</td>\n",
       "      <td>0.00</td>\n",
       "      <td>50.00</td>\n",
       "      <td>0.00</td>\n",
       "      <td>0.00</td>\n",
       "      <td>14.06</td>\n",
       "      <td>0.00</td>\n",
       "      <td>13.53</td>\n",
       "      <td>0.00</td>\n",
       "      <td>33.33</td>\n",
       "      <td>100.00</td>\n",
       "    </tr>\n",
       "    <tr>\n",
       "      <td>Non-fiction</td>\n",
       "      <td>33.33</td>\n",
       "      <td>25.00</td>\n",
       "      <td>0.00</td>\n",
       "      <td>33.33</td>\n",
       "      <td>0.00</td>\n",
       "      <td>33.33</td>\n",
       "      <td>0.00</td>\n",
       "      <td>0.00</td>\n",
       "      <td>0.00</td>\n",
       "      <td>0.00</td>\n",
       "      <td>...</td>\n",
       "      <td>0.00</td>\n",
       "      <td>0.00</td>\n",
       "      <td>0.00</td>\n",
       "      <td>0.00</td>\n",
       "      <td>12.50</td>\n",
       "      <td>0.00</td>\n",
       "      <td>17.29</td>\n",
       "      <td>0.00</td>\n",
       "      <td>0.00</td>\n",
       "      <td>100.00</td>\n",
       "    </tr>\n",
       "    <tr>\n",
       "      <td>Novel</td>\n",
       "      <td>16.67</td>\n",
       "      <td>50.00</td>\n",
       "      <td>100.00</td>\n",
       "      <td>66.67</td>\n",
       "      <td>0.00</td>\n",
       "      <td>38.89</td>\n",
       "      <td>100.00</td>\n",
       "      <td>0.00</td>\n",
       "      <td>100.00</td>\n",
       "      <td>100.00</td>\n",
       "      <td>...</td>\n",
       "      <td>75.00</td>\n",
       "      <td>50.00</td>\n",
       "      <td>100.00</td>\n",
       "      <td>0.00</td>\n",
       "      <td>67.19</td>\n",
       "      <td>100.00</td>\n",
       "      <td>60.15</td>\n",
       "      <td>100.00</td>\n",
       "      <td>66.67</td>\n",
       "      <td>100.00</td>\n",
       "    </tr>\n",
       "    <tr>\n",
       "      <td>Autobiography</td>\n",
       "      <td>0.00</td>\n",
       "      <td>25.00</td>\n",
       "      <td>0.00</td>\n",
       "      <td>0.00</td>\n",
       "      <td>0.00</td>\n",
       "      <td>0.00</td>\n",
       "      <td>0.00</td>\n",
       "      <td>0.00</td>\n",
       "      <td>0.00</td>\n",
       "      <td>0.00</td>\n",
       "      <td>...</td>\n",
       "      <td>0.00</td>\n",
       "      <td>0.00</td>\n",
       "      <td>0.00</td>\n",
       "      <td>0.00</td>\n",
       "      <td>0.00</td>\n",
       "      <td>0.00</td>\n",
       "      <td>0.75</td>\n",
       "      <td>0.00</td>\n",
       "      <td>0.00</td>\n",
       "      <td>100.00</td>\n",
       "    </tr>\n",
       "    <tr>\n",
       "      <td>Article</td>\n",
       "      <td>0.00</td>\n",
       "      <td>0.00</td>\n",
       "      <td>0.00</td>\n",
       "      <td>0.00</td>\n",
       "      <td>100.00</td>\n",
       "      <td>5.56</td>\n",
       "      <td>0.00</td>\n",
       "      <td>100.00</td>\n",
       "      <td>0.00</td>\n",
       "      <td>0.00</td>\n",
       "      <td>...</td>\n",
       "      <td>0.00</td>\n",
       "      <td>0.00</td>\n",
       "      <td>0.00</td>\n",
       "      <td>0.00</td>\n",
       "      <td>1.56</td>\n",
       "      <td>0.00</td>\n",
       "      <td>2.26</td>\n",
       "      <td>0.00</td>\n",
       "      <td>0.00</td>\n",
       "      <td>100.00</td>\n",
       "    </tr>\n",
       "    <tr>\n",
       "      <td>...</td>\n",
       "      <td>...</td>\n",
       "      <td>...</td>\n",
       "      <td>...</td>\n",
       "      <td>...</td>\n",
       "      <td>...</td>\n",
       "      <td>...</td>\n",
       "      <td>...</td>\n",
       "      <td>...</td>\n",
       "      <td>...</td>\n",
       "      <td>...</td>\n",
       "      <td>...</td>\n",
       "      <td>...</td>\n",
       "      <td>...</td>\n",
       "      <td>...</td>\n",
       "      <td>...</td>\n",
       "      <td>...</td>\n",
       "      <td>...</td>\n",
       "      <td>...</td>\n",
       "      <td>...</td>\n",
       "      <td>...</td>\n",
       "      <td>...</td>\n",
       "    </tr>\n",
       "    <tr>\n",
       "      <td>Novella</td>\n",
       "      <td>0.00</td>\n",
       "      <td>0.00</td>\n",
       "      <td>0.00</td>\n",
       "      <td>0.00</td>\n",
       "      <td>0.00</td>\n",
       "      <td>0.00</td>\n",
       "      <td>0.00</td>\n",
       "      <td>0.00</td>\n",
       "      <td>0.00</td>\n",
       "      <td>0.00</td>\n",
       "      <td>...</td>\n",
       "      <td>0.00</td>\n",
       "      <td>0.00</td>\n",
       "      <td>0.00</td>\n",
       "      <td>0.00</td>\n",
       "      <td>1.56</td>\n",
       "      <td>0.00</td>\n",
       "      <td>0.00</td>\n",
       "      <td>0.00</td>\n",
       "      <td>0.00</td>\n",
       "      <td>100.00</td>\n",
       "    </tr>\n",
       "    <tr>\n",
       "      <td>Tetralogy</td>\n",
       "      <td>0.00</td>\n",
       "      <td>0.00</td>\n",
       "      <td>0.00</td>\n",
       "      <td>0.00</td>\n",
       "      <td>0.00</td>\n",
       "      <td>0.00</td>\n",
       "      <td>0.00</td>\n",
       "      <td>0.00</td>\n",
       "      <td>0.00</td>\n",
       "      <td>0.00</td>\n",
       "      <td>...</td>\n",
       "      <td>0.00</td>\n",
       "      <td>0.00</td>\n",
       "      <td>0.00</td>\n",
       "      <td>0.00</td>\n",
       "      <td>1.56</td>\n",
       "      <td>0.00</td>\n",
       "      <td>0.00</td>\n",
       "      <td>0.00</td>\n",
       "      <td>0.00</td>\n",
       "      <td>100.00</td>\n",
       "    </tr>\n",
       "    <tr>\n",
       "      <td>Comic</td>\n",
       "      <td>0.00</td>\n",
       "      <td>0.00</td>\n",
       "      <td>0.00</td>\n",
       "      <td>0.00</td>\n",
       "      <td>0.00</td>\n",
       "      <td>0.00</td>\n",
       "      <td>0.00</td>\n",
       "      <td>0.00</td>\n",
       "      <td>0.00</td>\n",
       "      <td>0.00</td>\n",
       "      <td>...</td>\n",
       "      <td>0.00</td>\n",
       "      <td>0.00</td>\n",
       "      <td>0.00</td>\n",
       "      <td>0.00</td>\n",
       "      <td>0.00</td>\n",
       "      <td>0.00</td>\n",
       "      <td>0.75</td>\n",
       "      <td>0.00</td>\n",
       "      <td>0.00</td>\n",
       "      <td>100.00</td>\n",
       "    </tr>\n",
       "    <tr>\n",
       "      <td>Diary</td>\n",
       "      <td>0.00</td>\n",
       "      <td>0.00</td>\n",
       "      <td>0.00</td>\n",
       "      <td>0.00</td>\n",
       "      <td>0.00</td>\n",
       "      <td>0.00</td>\n",
       "      <td>0.00</td>\n",
       "      <td>0.00</td>\n",
       "      <td>0.00</td>\n",
       "      <td>0.00</td>\n",
       "      <td>...</td>\n",
       "      <td>0.00</td>\n",
       "      <td>0.00</td>\n",
       "      <td>0.00</td>\n",
       "      <td>0.00</td>\n",
       "      <td>0.00</td>\n",
       "      <td>0.00</td>\n",
       "      <td>2.26</td>\n",
       "      <td>0.00</td>\n",
       "      <td>0.00</td>\n",
       "      <td>100.00</td>\n",
       "    </tr>\n",
       "    <tr>\n",
       "      <td>Novel (unpublished)</td>\n",
       "      <td>0.00</td>\n",
       "      <td>0.00</td>\n",
       "      <td>0.00</td>\n",
       "      <td>0.00</td>\n",
       "      <td>0.00</td>\n",
       "      <td>0.00</td>\n",
       "      <td>0.00</td>\n",
       "      <td>0.00</td>\n",
       "      <td>0.00</td>\n",
       "      <td>0.00</td>\n",
       "      <td>...</td>\n",
       "      <td>0.00</td>\n",
       "      <td>0.00</td>\n",
       "      <td>0.00</td>\n",
       "      <td>0.00</td>\n",
       "      <td>0.00</td>\n",
       "      <td>0.00</td>\n",
       "      <td>0.75</td>\n",
       "      <td>0.00</td>\n",
       "      <td>0.00</td>\n",
       "      <td>100.00</td>\n",
       "    </tr>\n",
       "  </tbody>\n",
       "</table>\n",
       "<p>17 rows × 35 columns</p>\n",
       "</div>"
      ],
      "text/plain": [
       "                     Argentina  Australia  Bangladesh  Belgium  Bosnia  \\\n",
       "Memoir                   50.00       0.00        0.00     0.00    0.00   \n",
       "Non-fiction              33.33      25.00        0.00    33.33    0.00   \n",
       "Novel                    16.67      50.00      100.00    66.67    0.00   \n",
       "Autobiography             0.00      25.00        0.00     0.00    0.00   \n",
       "Article                   0.00       0.00        0.00     0.00  100.00   \n",
       "...                        ...        ...         ...      ...     ...   \n",
       "Novella                   0.00       0.00        0.00     0.00    0.00   \n",
       "Tetralogy                 0.00       0.00        0.00     0.00    0.00   \n",
       "Comic                     0.00       0.00        0.00     0.00    0.00   \n",
       "Diary                     0.00       0.00        0.00     0.00    0.00   \n",
       "Novel (unpublished)       0.00       0.00        0.00     0.00    0.00   \n",
       "\n",
       "                     Canada  China  Croatia   Cuba  Denmark  ...  South Korea  \\\n",
       "Memoir                16.67   0.00     0.00   0.00     0.00  ...         0.00   \n",
       "Non-fiction           33.33   0.00     0.00   0.00     0.00  ...         0.00   \n",
       "Novel                 38.89 100.00     0.00 100.00   100.00  ...        75.00   \n",
       "Autobiography          0.00   0.00     0.00   0.00     0.00  ...         0.00   \n",
       "Article                5.56   0.00   100.00   0.00     0.00  ...         0.00   \n",
       "...                     ...    ...      ...    ...      ...  ...          ...   \n",
       "Novella                0.00   0.00     0.00   0.00     0.00  ...         0.00   \n",
       "Tetralogy              0.00   0.00     0.00   0.00     0.00  ...         0.00   \n",
       "Comic                  0.00   0.00     0.00   0.00     0.00  ...         0.00   \n",
       "Diary                  0.00   0.00     0.00   0.00     0.00  ...         0.00   \n",
       "Novel (unpublished)    0.00   0.00     0.00   0.00     0.00  ...         0.00   \n",
       "\n",
       "                     Spain  Sweden  Switzerland    UK  UK and US    US   USSR  \\\n",
       "Memoir               50.00    0.00         0.00 14.06       0.00 13.53   0.00   \n",
       "Non-fiction           0.00    0.00         0.00 12.50       0.00 17.29   0.00   \n",
       "Novel                50.00  100.00         0.00 67.19     100.00 60.15 100.00   \n",
       "Autobiography         0.00    0.00         0.00  0.00       0.00  0.75   0.00   \n",
       "Article               0.00    0.00         0.00  1.56       0.00  2.26   0.00   \n",
       "...                    ...     ...          ...   ...        ...   ...    ...   \n",
       "Novella               0.00    0.00         0.00  1.56       0.00  0.00   0.00   \n",
       "Tetralogy             0.00    0.00         0.00  1.56       0.00  0.00   0.00   \n",
       "Comic                 0.00    0.00         0.00  0.00       0.00  0.75   0.00   \n",
       "Diary                 0.00    0.00         0.00  0.00       0.00  2.26   0.00   \n",
       "Novel (unpublished)   0.00    0.00         0.00  0.00       0.00  0.75   0.00   \n",
       "\n",
       "                     West Germany  Skupaj  \n",
       "Memoir                      33.33  100.00  \n",
       "Non-fiction                  0.00  100.00  \n",
       "Novel                       66.67  100.00  \n",
       "Autobiography                0.00  100.00  \n",
       "Article                      0.00  100.00  \n",
       "...                           ...     ...  \n",
       "Novella                      0.00  100.00  \n",
       "Tetralogy                    0.00  100.00  \n",
       "Comic                        0.00  100.00  \n",
       "Diary                        0.00  100.00  \n",
       "Novel (unpublished)          0.00  100.00  \n",
       "\n",
       "[17 rows x 35 columns]"
      ]
     },
     "execution_count": 393,
     "metadata": {},
     "output_type": "execute_result"
    }
   ],
   "source": [
    "pd.options.display.float_format = '{:,.2f}'.format\n",
    "s  = pd.DataFrame(slovar_drzav)\n",
    "s = s * 100\n",
    "s = s.round(2).replace(np.NaN, 0.0)\n",
    "s['Skupaj'] = 100.00\n",
    "s"
   ]
  },
  {
   "cell_type": "markdown",
   "metadata": {},
   "source": [
    "Tako npr. lahko ugotovim, v katerih državah so najbolj priljubljene priredbe romanov. Pri tem sem zanemarila države s 100 %, ker so to države, ki so posnele le en film, zato rezultat ni najbolj nazoren. Zanimiv pa je podatek, da so dobljene države razpršene po celem svetu: tako so med njimi evropske države in ZDA, pa tudi azijske države in celo Egipt."
   ]
  },
  {
   "cell_type": "code",
   "execution_count": 407,
   "metadata": {},
   "outputs": [
    {
     "data": {
      "text/plain": [
       "Belgium        66.67\n",
       "Egypt          66.67\n",
       "India          83.33\n",
       "South Korea    75.00\n",
       "UK             67.19\n",
       "US             60.15\n",
       "West Germany   66.67\n",
       "Name: Novel, dtype: float64"
      ]
     },
     "execution_count": 407,
     "metadata": {},
     "output_type": "execute_result"
    }
   ],
   "source": [
    "(s.loc['Novel'])[(s.loc['Novel'] < 100) & (s.loc['Novel'] > 50)]"
   ]
  },
  {
   "cell_type": "markdown",
   "metadata": {},
   "source": [
    "## Katera država je posnela največ vojnih filmov?\n",
    "\n",
    "Ali obstaja povezava med tem, kje so vojne potekale in kdo je posnel film? So filmi posneti po knjigah avtorjev iz iste države?"
   ]
  },
  {
   "cell_type": "code",
   "execution_count": 176,
   "metadata": {},
   "outputs": [
    {
     "data": {
      "image/png": "[encoded data removed]",
      "text/plain": [
       "<Figure size 432x288 with 1 Axes>"
      ]
     },
     "metadata": {
      "needs_background": "light"
     },
     "output_type": "display_data"
    }
   ],
   "source": [
    "po_drzavah = drzave.groupby('drzave')\n",
    "graf = po_drzavah.size().plot.bar()"
   ]
  },
  {
   "cell_type": "code",
   "execution_count": 177,
   "metadata": {},
   "outputs": [],
   "source": [
    "koliko_filmov_v_drzavi = po_drzavah.size()\n",
    "najvec = koliko_filmov_v_drzavi.max()\n",
    "najmanj = koliko_filmov_v_drzavi.min()"
   ]
  },
  {
   "cell_type": "code",
   "execution_count": 178,
   "metadata": {},
   "outputs": [
    {
     "data": {
      "text/plain": [
       "drzave\n",
       "US    133\n",
       "dtype: int64"
      ]
     },
     "execution_count": 178,
     "metadata": {},
     "output_type": "execute_result"
    }
   ],
   "source": [
    "koliko_filmov_v_drzavi[koliko_filmov_v_drzavi == najvec]"
   ]
  },
  {
   "cell_type": "code",
   "execution_count": 179,
   "metadata": {},
   "outputs": [
    {
     "data": {
      "text/plain": [
       "drzave\n",
       "Canada     18\n",
       "France     18\n",
       "UK         64\n",
       "US        133\n",
       "dtype: int64"
      ]
     },
     "execution_count": 179,
     "metadata": {},
     "output_type": "execute_result"
    }
   ],
   "source": [
    "koliko_filmov_v_drzavi[koliko_filmov_v_drzavi >= 10]"
   ]
  },
  {
   "cell_type": "markdown",
   "metadata": {},
   "source": [
    "### Ugotovitve:\n",
    "\n",
    "\n",
    "1. Največ filmov so posnele ZDA, kar 133. Med državami z več kot 10 vojnimi filmi so še Kanada, Francija in Združeno Kraljestvo."
   ]
  },
  {
   "cell_type": "markdown",
   "metadata": {},
   "source": [
    "## V katerem obdobju so posneli največ vojnih filmov po knjižni predlogi?\n",
    "\n",
    "\n"
   ]
  },
  {
   "cell_type": "code",
   "execution_count": 8,
   "metadata": {},
   "outputs": [],
   "source": [
    "filmi['desetletje_filma'] = 10 * (filmi.leto_filma // 10)\n",
    "filmi['desetletje_knjige'] = 10 * (filmi.leto_izida_knjige // 10)"
   ]
  },
  {
   "cell_type": "code",
   "execution_count": 11,
   "metadata": {},
   "outputs": [],
   "source": [
    "filmi_po_desetletjih = filmi.groupby('desetletje_filma')\n",
    "knjige_po_desetletjih = filmi.groupby('desetletje_knjige')"
   ]
  },
  {
   "cell_type": "markdown",
   "metadata": {},
   "source": [
    "Število filmov v posameznem desetletju:"
   ]
  },
  {
   "cell_type": "code",
   "execution_count": 17,
   "metadata": {
    "scrolled": true
   },
   "outputs": [
    {
     "data": {
      "text/plain": [
       "desetletje_filma\n",
       "1940     3\n",
       "1950    26\n",
       "1960    35\n",
       "1970    24\n",
       "1980    49\n",
       "1990    38\n",
       "2000    64\n",
       "2010     4\n",
       "dtype: int64"
      ]
     },
     "execution_count": 17,
     "metadata": {},
     "output_type": "execute_result"
    }
   ],
   "source": [
    "filmi_po_desetletjih.size()"
   ]
  },
  {
   "cell_type": "markdown",
   "metadata": {},
   "source": [
    "Število knjig, napisanih v posameznem desetletju:"
   ]
  },
  {
   "cell_type": "code",
   "execution_count": 18,
   "metadata": {},
   "outputs": [
    {
     "data": {
      "text/plain": [
       "desetletje_knjige\n",
       "1940     7\n",
       "1950    39\n",
       "1960    40\n",
       "1970    45\n",
       "1980    46\n",
       "1990    39\n",
       "2000    25\n",
       "dtype: int64"
      ]
     },
     "execution_count": 18,
     "metadata": {},
     "output_type": "execute_result"
    }
   ],
   "source": [
    "knjige_po_desetletjih.size()"
   ]
  },
  {
   "cell_type": "markdown",
   "metadata": {},
   "source": [
    "### Ugotovitve\n",
    "\n",
    "1. Koliko filmov je bilo posnetih v istem desetletju kot so bile napisane njihove knjižne predloge? \n",
    "\n",
    "Predvidevala sem, da je veliko filmov nastalo kmalu po izidu knjige. Če se knjiga izkaže za uspešnico, filmarji namreč radi izkoristijo to navdušenje za promocijo svojega filma in s tem poskrbijo za večji zaslužek.\n",
    "Najmanj je takih filmov bilo v 40-ih letih. Knjige o drugi svetovni vojni so takrat seveda šele začele nastajati, mnogo spominov in avtobiografij še ni bilo napisanih. Že v 50-ih in 60-ih pa je filmskih priredb veliko več. "
   ]
  },
  {
   "cell_type": "code",
   "execution_count": 54,
   "metadata": {},
   "outputs": [
    {
     "data": {
      "image/png": "[encoded data removed]",
      "text/plain": [
       "<Figure size 432x288 with 1 Axes>"
      ]
     },
     "metadata": {
      "needs_background": "light"
     },
     "output_type": "display_data"
    }
   ],
   "source": [
    "graf3 = filmi[filmi.desetletje_knjige == filmi.desetletje_filma].groupby('desetletje_filma').size().plot.bar()\n",
    "graf3.set_xlabel(\"Desetletje\")\n",
    "graf3.set_ylabel(\"Število knjig, ki so svojo predelavo dobile v istem desetletju\")\n",
    "plt.tight_layout()"
   ]
  },
  {
   "cell_type": "markdown",
   "metadata": {},
   "source": [
    "2. Največji odstotek knjig, po katerih je bil film posnet že v istem desetletju, pripada letom od 2000 do 2010.\n",
    "\n",
    "Kar 96 % vseh knjig, ki so izšle v teh 10 letih, je svojo priredbo dobilo v istem desetletju. Če se navežem na zgornje razmišljanje, je to lahko rezultat marketinške taktike: knjižna uspešnica prinese večjo reklamo in potencialen večji zaslužek, kar v modernem svetu igra veliko vlogo. Lahko pa bi to bila tudi posledica bolj razvite filmske industrije in hitrejšega snemanja filmov. \n",
    "\n",
    "Sicer pa ni mogoče določiti trenda naraščanja ali padanja, čeprav je najmanjši odstotek res pripadel 40-im letom."
   ]
  },
  {
   "cell_type": "code",
   "execution_count": 34,
   "metadata": {},
   "outputs": [
    {
     "data": {
      "text/plain": [
       "[0.2857, 0.6154, 0.65, 0.3556, 0.5217, 0.3846, 0.96]"
      ]
     },
     "execution_count": 34,
     "metadata": {},
     "output_type": "execute_result"
    }
   ],
   "source": [
    "v_istem_desetletju = list(filmi[filmi.desetletje_knjige == filmi.desetletje_filma].groupby('desetletje_filma').size())\n",
    "seznam_po_desetletjih = list(knjige_po_desetletjih.size())\n",
    "\n",
    "odstotki_po_desetletjih = []\n",
    "for i in range(len(seznam_po_desetletjih)):\n",
    "    odstotki_po_desetletjih.append(round(v_istem_desetletju[i] / seznam_po_desetletjih[i], 4))\n",
    "odstotki_po_desetletjih   "
   ]
  },
  {
   "cell_type": "markdown",
   "metadata": {},
   "source": [
    "## Ali filmske predelave obdržijo naslove knjig?"
   ]
  },
  {
   "cell_type": "code",
   "execution_count": 17,
   "metadata": {},
   "outputs": [
    {
     "data": {
      "text/html": [
       "<div>\n",
       "<style scoped>\n",
       "    .dataframe tbody tr th:only-of-type {\n",
       "        vertical-align: middle;\n",
       "    }\n",
       "\n",
       "    .dataframe tbody tr th {\n",
       "        vertical-align: top;\n",
       "    }\n",
       "\n",
       "    .dataframe thead th {\n",
       "        text-align: right;\n",
       "    }\n",
       "</style>\n",
       "<table border=\"1\" class=\"dataframe\">\n",
       "  <thead>\n",
       "    <tr style=\"text-align: right;\">\n",
       "      <th></th>\n",
       "      <th>film</th>\n",
       "      <th>leto_filma</th>\n",
       "      <th>knjiga</th>\n",
       "      <th>leto_izida_knjige</th>\n",
       "    </tr>\n",
       "    <tr>\n",
       "      <th>id</th>\n",
       "      <th></th>\n",
       "      <th></th>\n",
       "      <th></th>\n",
       "      <th></th>\n",
       "    </tr>\n",
       "  </thead>\n",
       "  <tbody>\n",
       "    <tr>\n",
       "      <td>2</td>\n",
       "      <td>Yangtse Incident: The Story of H.M.S. Amethyst</td>\n",
       "      <td>1957</td>\n",
       "      <td>Yangtse Incident: The Story of H.M.S. Amethyst...</td>\n",
       "      <td>1950</td>\n",
       "    </tr>\n",
       "    <tr>\n",
       "      <td>5</td>\n",
       "      <td>Assembly</td>\n",
       "      <td>2007</td>\n",
       "      <td>Guan Si</td>\n",
       "      <td>1990</td>\n",
       "    </tr>\n",
       "    <tr>\n",
       "      <td>8</td>\n",
       "      <td>The 317th Platoon</td>\n",
       "      <td>1965</td>\n",
       "      <td>La 31 Section</td>\n",
       "      <td>1963</td>\n",
       "    </tr>\n",
       "    <tr>\n",
       "      <td>11</td>\n",
       "      <td>The Red Danube</td>\n",
       "      <td>1949</td>\n",
       "      <td>Vespers in Vienna</td>\n",
       "      <td>1947</td>\n",
       "    </tr>\n",
       "    <tr>\n",
       "      <td>12</td>\n",
       "      <td>Assignment – Paris!</td>\n",
       "      <td>1952</td>\n",
       "      <td>Trial of Terror</td>\n",
       "      <td>1950</td>\n",
       "    </tr>\n",
       "    <tr>\n",
       "      <td>...</td>\n",
       "      <td>...</td>\n",
       "      <td>...</td>\n",
       "      <td>...</td>\n",
       "      <td>...</td>\n",
       "    </tr>\n",
       "    <tr>\n",
       "      <td>248</td>\n",
       "      <td>Purgatory</td>\n",
       "      <td>1998</td>\n",
       "      <td>Psalm 137</td>\n",
       "      <td>nan</td>\n",
       "    </tr>\n",
       "    <tr>\n",
       "      <td>249</td>\n",
       "      <td>Proof of Life</td>\n",
       "      <td>2000</td>\n",
       "      <td>Adventures in the Ransom Trade</td>\n",
       "      <td>1990</td>\n",
       "    </tr>\n",
       "    <tr>\n",
       "      <td>254</td>\n",
       "      <td>The Enemy Within</td>\n",
       "      <td>1994</td>\n",
       "      <td>Seven Days in May</td>\n",
       "      <td>1962</td>\n",
       "    </tr>\n",
       "    <tr>\n",
       "      <td>255</td>\n",
       "      <td>Far North</td>\n",
       "      <td>2007</td>\n",
       "      <td>True North</td>\n",
       "      <td>1983</td>\n",
       "    </tr>\n",
       "    <tr>\n",
       "      <td>257</td>\n",
       "      <td>Notre musique</td>\n",
       "      <td>2004</td>\n",
       "      <td>NaN</td>\n",
       "      <td>nan</td>\n",
       "    </tr>\n",
       "  </tbody>\n",
       "</table>\n",
       "<p>130 rows × 4 columns</p>\n",
       "</div>"
      ],
      "text/plain": [
       "                                               film  leto_filma  \\\n",
       "id                                                                \n",
       "2    Yangtse Incident: The Story of H.M.S. Amethyst        1957   \n",
       "5                                          Assembly        2007   \n",
       "8                                 The 317th Platoon        1965   \n",
       "11                                   The Red Danube        1949   \n",
       "12                              Assignment – Paris!        1952   \n",
       "..                                              ...         ...   \n",
       "248                                       Purgatory        1998   \n",
       "249                                   Proof of Life        2000   \n",
       "254                                The Enemy Within        1994   \n",
       "255                                       Far North        2007   \n",
       "257                                   Notre musique        2004   \n",
       "\n",
       "                                                knjiga  leto_izida_knjige  \n",
       "id                                                                         \n",
       "2    Yangtse Incident: The Story of H.M.S. Amethyst...               1950  \n",
       "5                                              Guan Si               1990  \n",
       "8                                        La 31 Section               1963  \n",
       "11                                   Vespers in Vienna               1947  \n",
       "12                                     Trial of Terror               1950  \n",
       "..                                                 ...                ...  \n",
       "248                                          Psalm 137                nan  \n",
       "249                     Adventures in the Ransom Trade               1990  \n",
       "254                                  Seven Days in May               1962  \n",
       "255                                         True North               1983  \n",
       "257                                                NaN                nan  \n",
       "\n",
       "[130 rows x 4 columns]"
      ]
     },
     "execution_count": 17,
     "metadata": {},
     "output_type": "execute_result"
    }
   ],
   "source": [
    "filmi[filmi.film != filmi.knjiga]"
   ]
  },
  {
   "cell_type": "markdown",
   "metadata": {},
   "source": [
    "### Ugotovitve\n",
    "\n",
    "1. Kar 130 filmov, torej <b>več kot polovica,</b> ima drugačen naslov kot knjiga, po kateri je bil film posnet.\n",
    "\n",
    "V nekaterih primerih gre le za skrajšanje zelo dolgega naslova knjige:"
   ]
  },
  {
   "cell_type": "code",
   "execution_count": 33,
   "metadata": {},
   "outputs": [
    {
     "data": {
      "text/plain": [
       "'Yangtse Incident: The Story of H.M.S. Amethyst, April 20, 1949, to July 31, 1949'"
      ]
     },
     "execution_count": 33,
     "metadata": {},
     "output_type": "execute_result"
    }
   ],
   "source": [
    "filmi.loc[2].knjiga"
   ]
  },
  {
   "cell_type": "code",
   "execution_count": 34,
   "metadata": {},
   "outputs": [
    {
     "data": {
      "text/plain": [
       "'Yangtse Incident: The Story of H.M.S. Amethyst'"
      ]
     },
     "execution_count": 34,
     "metadata": {},
     "output_type": "execute_result"
    }
   ],
   "source": [
    "filmi.loc[2].film"
   ]
  },
  {
   "cell_type": "markdown",
   "metadata": {},
   "source": [
    "V drugih primerih gre za prevod naslova, v tretjih pa je naslov popolnoma spremenjen, morda zato, da bi bil film privlačnejši za gledalce, morda zato, ker se je režiser le oprl na vsebino knjige in je film bolj njegova lastna stvaritev kot priredba, morda pa je razlog kje drugje.\n",
    "\n",
    "2. Zanimalo me je, <b>koliko let je preteklo med izidom knjige in filma</b> v primeru, ko sta se naslova razlikovala. \n",
    "\n",
    "Želela sem namreč ugotoviti, ali pretečena leta morda vplivajo na režiserjevo odločitev, da film preimenuje. Izkazalo se je, da je povprečen čas, ki mine med izidom filma in knjige z različnima naslovoma, res za skoraj 3 leta daljši, kot če imata knjiga in film enak naslov, a iz tega težko sklepam, da se režiserji prav zaradi pretečenega časa odločajo za drugačne naslove."
   ]
  },
  {
   "cell_type": "code",
   "execution_count": 145,
   "metadata": {},
   "outputs": [],
   "source": [
    "def koliko_let(sez1, sez2):\n",
    "    # za sez1 vstavim seznam filmov, za sez2 pa seznam knjig\n",
    "    seznam_razlik = []\n",
    "    for i in range(len(sez1)):\n",
    "        # ignoriram tiste knjige, ki nimajo podatka o letu izida\n",
    "        if np.isnan(sez1[i]) or np.isnan(sez2[i]):\n",
    "            pass\n",
    "        else:\n",
    "            razlika = sez1[i] - sez2[i]\n",
    "            # upoštevam le filme, ki so posneti po izidu knjige\n",
    "            if razlika >= 0:\n",
    "                seznam_razlik.append(razlika)\n",
    "            else:\n",
    "                pass\n",
    "    return sum(seznam_razlik) / len(seznam_razlik)"
   ]
  },
  {
   "cell_type": "code",
   "execution_count": 146,
   "metadata": {},
   "outputs": [
    {
     "data": {
      "text/plain": [
       "9.76984126984127"
      ]
     },
     "execution_count": 146,
     "metadata": {},
     "output_type": "execute_result"
    }
   ],
   "source": [
    "seznam_knjige = list(filmi[filmi.film != filmi.knjiga].leto_izida_knjige)\n",
    "seznam_filmi = list(filmi[filmi.film != filmi.knjiga].leto_filma)\n",
    "koliko_let(seznam_filmi, seznam_knjige)"
   ]
  },
  {
   "cell_type": "code",
   "execution_count": 147,
   "metadata": {},
   "outputs": [
    {
     "data": {
      "text/plain": [
       "7.017857142857143"
      ]
     },
     "execution_count": 147,
     "metadata": {},
     "output_type": "execute_result"
    }
   ],
   "source": [
    "seznam_knjige2 = list(filmi[filmi.film == filmi.knjiga].leto_izida_knjige)\n",
    "seznam_filmi2 = list(filmi[filmi.film == filmi.knjiga].leto_filma)\n",
    "koliko_let(seznam_filmi2, seznam_knjige2)"
   ]
  },
  {
   "cell_type": "markdown",
   "metadata": {},
   "source": [
    "Morda pa je na spremembo naslovov vplivalo dejstvo, da so bili filmi posneti v novem tisočletju. Kar 29,23 % filmov z naslovi, ki se razlikujejo od knjige, je bilo posnetih po letu 2000."
   ]
  },
  {
   "cell_type": "code",
   "execution_count": 86,
   "metadata": {},
   "outputs": [
    {
     "data": {
      "text/plain": [
       "0.2923076923076923"
      ]
     },
     "execution_count": 86,
     "metadata": {},
     "output_type": "execute_result"
    }
   ],
   "source": [
    "seznam_filmi3 = list(filmi[(filmi.film != filmi.knjiga) & (filmi.leto_filma > 2000)].leto_filma)\n",
    "seznam_filmi4 = list(filmi[filmi.film != filmi.knjiga].leto_filma)   \n",
    "len(seznam_filmi3) / len(seznam_filmi4)"
   ]
  },
  {
   "cell_type": "markdown",
   "metadata": {},
   "source": [
    "Pri analizi teh podatkov sem ugotovila še, da so trije filmi očitno bili posneti po knjigah, ki so izšle za filmom. Morda gre za pomoto pri zapisu letnic (vse se res razlikujejo le za 1), a  Wikipediji ne gre zaupati."
   ]
  },
  {
   "cell_type": "code",
   "execution_count": 74,
   "metadata": {},
   "outputs": [
    {
     "data": {
      "text/html": [
       "<div>\n",
       "<style scoped>\n",
       "    .dataframe tbody tr th:only-of-type {\n",
       "        vertical-align: middle;\n",
       "    }\n",
       "\n",
       "    .dataframe tbody tr th {\n",
       "        vertical-align: top;\n",
       "    }\n",
       "\n",
       "    .dataframe thead th {\n",
       "        text-align: right;\n",
       "    }\n",
       "</style>\n",
       "<table border=\"1\" class=\"dataframe\">\n",
       "  <thead>\n",
       "    <tr style=\"text-align: right;\">\n",
       "      <th></th>\n",
       "      <th>film</th>\n",
       "      <th>leto_filma</th>\n",
       "      <th>knjiga</th>\n",
       "      <th>leto_izida_knjige</th>\n",
       "    </tr>\n",
       "    <tr>\n",
       "      <th>id</th>\n",
       "      <th></th>\n",
       "      <th></th>\n",
       "      <th></th>\n",
       "      <th></th>\n",
       "    </tr>\n",
       "  </thead>\n",
       "  <tbody>\n",
       "    <tr>\n",
       "      <td>10</td>\n",
       "      <td>The Third Man</td>\n",
       "      <td>1949</td>\n",
       "      <td>The Third Man</td>\n",
       "      <td>1950</td>\n",
       "    </tr>\n",
       "    <tr>\n",
       "      <td>221</td>\n",
       "      <td>Resurrected</td>\n",
       "      <td>1989</td>\n",
       "      <td>Summer Soldier</td>\n",
       "      <td>1990</td>\n",
       "    </tr>\n",
       "    <tr>\n",
       "      <td>225</td>\n",
       "      <td>Waltz with Bashir</td>\n",
       "      <td>2008</td>\n",
       "      <td>Waltz with Bashir: A Lebanon War Story</td>\n",
       "      <td>2009</td>\n",
       "    </tr>\n",
       "  </tbody>\n",
       "</table>\n",
       "</div>"
      ],
      "text/plain": [
       "                  film  leto_filma                                  knjiga  \\\n",
       "id                                                                           \n",
       "10       The Third Man        1949                           The Third Man   \n",
       "221        Resurrected        1989                          Summer Soldier   \n",
       "225  Waltz with Bashir        2008  Waltz with Bashir: A Lebanon War Story   \n",
       "\n",
       "     leto_izida_knjige  \n",
       "id                      \n",
       "10                1950  \n",
       "221               1990  \n",
       "225               2009  "
      ]
     },
     "execution_count": 74,
     "metadata": {},
     "output_type": "execute_result"
    }
   ],
   "source": [
    "filmi[((filmi.leto_filma - filmi.leto_izida_knjige) < 0)== True]"
   ]
  },
  {
   "cell_type": "markdown",
   "metadata": {},
   "source": [
    " 3. V celoti spremenjenih naslovov je le 27.\n",
    "\n",
    "Predvidevala sem, da je večina naslovov res le skrajšanih ali vsaj podobnih originalnemu. Od 130 obravnavanih filmov jih ima 27 v resnici popolnoma enak naslov kot izvirnik, morda brez kakšnega ločila ali s kakšno izpuščeno besedo, 74 pa se jih od knjižnega naslova popolnoma razlikuje."
   ]
  },
  {
   "cell_type": "code",
   "execution_count": 160,
   "metadata": {},
   "outputs": [],
   "source": [
    "def zanka(sez):\n",
    "    # sprejme seznam besed, se čez njega zapelje in izbriše ločila iz vsake besede\n",
    "    for i in range(len(sez)):\n",
    "        if '.' in sez[i]:\n",
    "            sez[i] = sez[i].replace('.', '')\n",
    "        if ',' in sez[i]:\n",
    "            sez[i] = sez[i].replace(',', '')\n",
    "        if '!' in sez[i]:\n",
    "            sez[i] = sez[i].replace('!', '')\n",
    "        if '?' in sez[i]:\n",
    "            sez[i] = sez[i].replace('?', '')       \n",
    "        if ':' in sez[i]:\n",
    "            sez[i] = sez[i].replace(':', '')\n",
    "        if ';' in sez[i]:\n",
    "            sez[i] = sez[i].replace(';', '')\n",
    "    return sez\n",
    "\n",
    "def odstotek_enakih_besed(film, knjiga):\n",
    "    # sprejme naslov filma in knjige in vrne odstotek besed v naslovu filma, ki se pojavijo tudi v naslovu knjige\n",
    "    besede_v_filmu = str(film).split()\n",
    "    besede_v_knjigi = str(knjiga).split()\n",
    "    okej_besede = []\n",
    "    for i in zanka(besede_v_filmu):\n",
    "        if i in zanka(besede_v_knjigi):\n",
    "            okej_besede.append(i)\n",
    "        else:\n",
    "            pass\n",
    "    return len(okej_besede) / len(besede_v_filmu)\n",
    "\n",
    "filmi_za_odstotek = list(filmi[filmi.film != filmi.knjiga].film)\n",
    "knjige_za_odstotek = list(filmi[filmi.film != filmi.knjiga].knjiga)\n",
    "\n",
    "# zapeljem se čez seznam vseh naslovov knjig in za vsako izračunam, v kolikšni meri se naslov filma ujema z naslovom knjige\n",
    "seznam_odstotkov_enakih_besed = []\n",
    "for i in range(len(knjige_za_odstotek)):\n",
    "    seznam_odstotkov_enakih_besed.append(odstotek_enakih_besed(filmi_za_odstotek[i], knjige_za_odstotek[i]))"
   ]
  },
  {
   "cell_type": "markdown",
   "metadata": {},
   "source": [
    "Naslovi knjig in filmov, ki se razlikujejo, so si vseeno v veliko primerih podobni: v povprečju se ujemajo za 30,66%."
   ]
  },
  {
   "cell_type": "code",
   "execution_count": 161,
   "metadata": {},
   "outputs": [
    {
     "data": {
      "text/plain": [
       "0.30660256410256403"
      ]
     },
     "execution_count": 161,
     "metadata": {},
     "output_type": "execute_result"
    }
   ],
   "source": [
    "seznam_odstotkov_enakih_besed\n",
    "(sum(seznam_odstotkov_enakih_besed)) / len(seznam_odstotkov_enakih_besed)"
   ]
  },
  {
   "cell_type": "markdown",
   "metadata": {},
   "source": [
    "Filmov, ki imajo naslov, ki je v celoti vsebovan tudi v naslovu knjige (torej je režiser naslov le skrajšal in/ali dodal oz. izbrisal kakšno ločilo), je 27"
   ]
  },
  {
   "cell_type": "code",
   "execution_count": 162,
   "metadata": {},
   "outputs": [
    {
     "data": {
      "text/plain": [
       "27"
      ]
     },
     "execution_count": 162,
     "metadata": {},
     "output_type": "execute_result"
    }
   ],
   "source": [
    "vse_besede_enake = 0\n",
    "for i in seznam_odstotkov_enakih_besed:\n",
    "    if i == 1:\n",
    "        vse_besede_enake += 1\n",
    "vse_besede_enake"
   ]
  },
  {
   "cell_type": "markdown",
   "metadata": {},
   "source": [
    "Po drugi strani ima 74, torej več kot polovica obravnavanih 130 filmov, popolnoma spremenjen naslov."
   ]
  },
  {
   "cell_type": "code",
   "execution_count": 163,
   "metadata": {},
   "outputs": [
    {
     "data": {
      "text/plain": [
       "74"
      ]
     },
     "execution_count": 163,
     "metadata": {},
     "output_type": "execute_result"
    }
   ],
   "source": [
    "vse_besede_spremenjene = 0\n",
    "for i in seznam_odstotkov_enakih_besed:\n",
    "    if i == 0:\n",
    "        vse_besede_spremenjene += 1\n",
    "vse_besede_spremenjene"
   ]
  },
  {
   "cell_type": "markdown",
   "metadata": {},
   "source": [
    "## SKLEP\n",
    "\n",
    "Če povzamem svoje ugotovitve, vidim, da je največ vojnih filmov posnetih po romanih, tem pa sledijo zgodbe, zapisane po resničnih dogodkih, in dnevniki. Romani so najbolj pogosta izbira za priredbo v film v Združenem Kraljestvu, Indiji in v Južni Koreji, medtem ko v Argentini in Španiji uživajo v biografijah.\n",
    "\n",
    "Največ vojnih filmov so posnele države, ki imajo tudi največje proračune za snemanje, najbolj razvito opremo in najverjetneje tudi največje potencialno občinstvo za ogled filma v kinu: Združeno Kraljestvo, ZDA, Francija in Kanada.\n",
    "\n",
    "V letih od 2000 do 2010 so bili filmi še posebej vojno obarvani. V tem obdobju je namreč bilo posnetih največ vojnih filmov. Hkrati pa je izšlo tudi največ knjig, ki so že kmalu za izidom dobile svojo filmsko različico.\n",
    "\n",
    "Okoli polovica filmov ima drugačen naslov kot knjige, čeprav večinoma ne gre za velike spremembe (prevod naslova v angleščino, skrajšanje naslova). Med izidom knjige in filma, katerih naslova se razlikujeta, je preteklo v povprečju 9,77 let, medtem ko je število let pri tistih z enakima naslovoma v povprečju 7,02. Filmi, ki imajo drugačen naslov kot knjige, se z izvirnim naslovom v povprečju vseeno ujemajo za 30 %.\n",
    "\n",
    "S to projektno nalogo sem torej prišla do mnogih zanimivih ugotovitev, vseeno pa nisem odgovorila na vprašanje, ki sva si ga postavila z bratom.To, ali so pri orisovanju zgodovinskih dogodkov boljše knjige ali filmi, bom prepustila najini subjektivni presoji.\n",
    "\n",
    "In še ena opazka: v bodoče se je dobro izogibati podatkom z Wikipedije, ker so precej nezanesljivi, kar sem na večih mestih ugotovila in omenila tudi skozi svojo projektno nalogo."
   ]
  }
 ],
 "metadata": {
  "kernelspec": {
   "display_name": "Python 3",
   "language": "python",
   "name": "python3"
  },
  "language_info": {
   "codemirror_mode": {
    "name": "ipython",
    "version": 3
   },
   "file_extension": ".py",
   "mimetype": "text/x-python",
   "name": "python",
   "nbconvert_exporter": "python",
   "pygments_lexer": "ipython3",
   "version": "3.7.2"
  }
 },
 "nbformat": 4,
 "nbformat_minor": 2
}
